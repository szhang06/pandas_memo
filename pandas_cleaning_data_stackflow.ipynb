{
  "nbformat": 4,
  "nbformat_minor": 0,
  "metadata": {
    "colab": {
      "name": "pandas_cleaning_data_stackflow.ipynb",
      "provenance": []
    },
    "kernelspec": {
      "name": "python3",
      "display_name": "Python 3"
    },
    "language_info": {
      "name": "python"
    }
  },
  "cells": [
    {
      "cell_type": "code",
      "metadata": {
        "id": "VeuiT3cBpqIu"
      },
      "source": [
        "import pandas as pd\n",
        "import numpy as np\n",
        "\n",
        "na_vals = [\"NA\", \"Missing\"]\n",
        "df = pd.read_csv(\"/content/survey_results_public.csv\", index_col=\"Respondent\", na_values=na_vals) # na_values=\n",
        "df_schema = pd.read_csv(\"/content/survey_results_schema.csv\")"
      ],
      "execution_count": 8,
      "outputs": []
    },
    {
      "cell_type": "code",
      "metadata": {
        "id": "Nqw69FLcpvhj"
      },
      "source": [
        "pd.set_option(\"display.max_columns\", 85)\n",
        "pd.set_option(\"display.max_rows\", 85)"
      ],
      "execution_count": 9,
      "outputs": []
    },
    {
      "cell_type": "code",
      "metadata": {
        "id": "a31e9oa2pyxu"
      },
      "source": [
        "df.head()"
      ],
      "execution_count": null,
      "outputs": []
    },
    {
      "cell_type": "code",
      "metadata": {
        "colab": {
          "base_uri": "https://localhost:8080/"
        },
        "id": "I0ZdsDfZp0t-",
        "outputId": "168fb049-cc64-49ad-a4c5-db075dcecff1"
      },
      "source": [
        "df[\"YearsCode\"].unique()"
      ],
      "execution_count": 16,
      "outputs": [
        {
          "output_type": "execute_result",
          "data": {
            "text/plain": [
              "array(['4', nan, '3', '16', '13', '6', '8', '12', '2', '5', '17', '10',\n",
              "       '14', '35', '7', 'Less than 1 year', '30', '9', '26', '40', '19',\n",
              "       '15', '20', '28', '25', '1', '22', '11', '33', '50', '41', '18',\n",
              "       '34', '24', '23', '42', '27', '21', '36', '32', '39', '38', '31',\n",
              "       '37', 'More than 50 years', '29', '44', '45', '48', '46', '43',\n",
              "       '47', '49'], dtype=object)"
            ]
          },
          "metadata": {
            "tags": []
          },
          "execution_count": 16
        }
      ]
    },
    {
      "cell_type": "code",
      "metadata": {
        "id": "qSVCcI-JwQk1"
      },
      "source": [
        "df[\"YearsCode\"].replace(\"Less than 1 year\", 0, inplace= True)\n",
        "df[\"YearsCode\"].replace(\"More than 50 years\", 51, inplace=True)"
      ],
      "execution_count": 20,
      "outputs": []
    },
    {
      "cell_type": "code",
      "metadata": {
        "colab": {
          "base_uri": "https://localhost:8080/"
        },
        "id": "o6VMBknlwlw1",
        "outputId": "c4e546a3-dbcc-4b71-fd03-df1b99ced126"
      },
      "source": [
        "df[\"YearsCode\"].unique()"
      ],
      "execution_count": 21,
      "outputs": [
        {
          "output_type": "execute_result",
          "data": {
            "text/plain": [
              "array(['4', nan, '3', '16', '13', '6', '8', '12', '2', '5', '17', '10',\n",
              "       '14', '35', '7', 0, '30', '9', '26', '40', '19', '15', '20', '28',\n",
              "       '25', '1', '22', '11', '33', '50', '41', '18', '34', '24', '23',\n",
              "       '42', '27', '21', '36', '32', '39', '38', '31', '37', 51, '29',\n",
              "       '44', '45', '48', '46', '43', '47', '49'], dtype=object)"
            ]
          },
          "metadata": {
            "tags": []
          },
          "execution_count": 21
        }
      ]
    },
    {
      "cell_type": "code",
      "metadata": {
        "colab": {
          "base_uri": "https://localhost:8080/"
        },
        "id": "Edn8GDqAwthb",
        "outputId": "ff32ad06-a456-4de8-fcca-037509ca7875"
      },
      "source": [
        "df[\"YearsCode\"].astype(float).mean() # default skipna=True to ignore nan values "
      ],
      "execution_count": 24,
      "outputs": [
        {
          "output_type": "execute_result",
          "data": {
            "text/plain": [
              "11.662114216834588"
            ]
          },
          "metadata": {
            "tags": []
          },
          "execution_count": 24
        }
      ]
    },
    {
      "cell_type": "code",
      "metadata": {
        "colab": {
          "base_uri": "https://localhost:8080/"
        },
        "id": "7sglqENDxqf4",
        "outputId": "76c12534-1c00-49a5-f4d3-69ac46231e43"
      },
      "source": [
        "df[\"YearsCode\"].astype(float).median()"
      ],
      "execution_count": 28,
      "outputs": [
        {
          "output_type": "execute_result",
          "data": {
            "text/plain": [
              "9.0"
            ]
          },
          "metadata": {
            "tags": []
          },
          "execution_count": 28
        }
      ]
    },
    {
      "cell_type": "code",
      "metadata": {
        "colab": {
          "base_uri": "https://localhost:8080/",
          "height": 172
        },
        "id": "QWYYHH3gxAB6",
        "outputId": "8d0f9b4a-aa82-44db-dbdf-8f31f4fcb7c3"
      },
      "source": [
        "print(sum([1.0, 2.0, nan]))"
      ],
      "execution_count": 33,
      "outputs": [
        {
          "output_type": "error",
          "ename": "NameError",
          "evalue": "ignored",
          "traceback": [
            "\u001b[0;31m---------------------------------------------------------------------------\u001b[0m",
            "\u001b[0;31mNameError\u001b[0m                                 Traceback (most recent call last)",
            "\u001b[0;32m<ipython-input-33-621005528766>\u001b[0m in \u001b[0;36m<module>\u001b[0;34m()\u001b[0m\n\u001b[0;32m----> 1\u001b[0;31m \u001b[0mprint\u001b[0m\u001b[0;34m(\u001b[0m\u001b[0msum\u001b[0m\u001b[0;34m(\u001b[0m\u001b[0;34m[\u001b[0m\u001b[0;36m1.0\u001b[0m\u001b[0;34m,\u001b[0m \u001b[0;36m2.0\u001b[0m\u001b[0;34m,\u001b[0m \u001b[0mnan\u001b[0m\u001b[0;34m]\u001b[0m\u001b[0;34m)\u001b[0m\u001b[0;34m)\u001b[0m\u001b[0;34m\u001b[0m\u001b[0;34m\u001b[0m\u001b[0m\n\u001b[0m",
            "\u001b[0;31mNameError\u001b[0m: name 'nan' is not defined"
          ]
        }
      ]
    }
  ]
}